{
 "cells": [
  {
   "cell_type": "code",
   "execution_count": null,
   "id": "07615786",
   "metadata": {},
   "outputs": [],
   "source": []
  },
  {
   "cell_type": "code",
   "execution_count": 83,
   "id": "375aa3b8",
   "metadata": {},
   "outputs": [
    {
     "name": "stdout",
     "output_type": "stream",
     "text": [
      "Resources\\budget_data.csv\n"
     ]
    }
   ],
   "source": [
    "# import Dependencies\n",
    "import os\n",
    "import csv\n",
    "\n",
    "csvpath=os.path.join('Resources','budget_data.csv')\n",
    "print(csvpath)\n"
   ]
  },
  {
   "cell_type": "code",
   "execution_count": 92,
   "id": "41587b0f",
   "metadata": {},
   "outputs": [
    {
     "name": "stdout",
     "output_type": "stream",
     "text": [
      "Date,Profit/Losses\n",
      "\n",
      "86\n",
      "22564198\n"
     ]
    }
   ],
   "source": [
    "# open and read csv file\n",
    "\n",
    "with open(csvpath) as csv_file:\n",
    "    csv_reader=csv.reader(csv_file, delimiter=\",\")\n",
    "    \n",
    "    csv_header=next(csv_file)\n",
    "    print(csv_header)\n",
    "    \n",
    "    date = []\n",
    "    months = []\n",
    "    profit_losses = []\n",
    "\n",
    "    # set the variables\n",
    "    date=0\n",
    "    month_count=0\n",
    "    total_profit=0\n",
    "    firstmonthprofit=0\n",
    "    currentmonthprofit=0\n",
    "    monthly_change=0\n",
    "    total_change=0\n",
    "    \n",
    "    for row in csv_reader:\n",
    "        month_count += 1\n",
    "\n",
    "        total_profit += int(row[1])\n",
    "\n",
    "    print(month_count)\n",
    "    print(total_profit)\n",
    "    \n",
    "            \n",
    "    \n",
    "      \n",
    "   \n",
    "    "
   ]
  },
  {
   "cell_type": "code",
   "execution_count": 93,
   "id": "488aac25",
   "metadata": {},
   "outputs": [
    {
     "ename": "TypeError",
     "evalue": "'int' object is not iterable",
     "output_type": "error",
     "traceback": [
      "\u001b[1;31m---------------------------------------------------------------------------\u001b[0m",
      "\u001b[1;31mTypeError\u001b[0m                                 Traceback (most recent call last)",
      "\u001b[1;32m~\\AppData\\Local\\Temp\\ipykernel_13592\\2638090284.py\u001b[0m in \u001b[0;36m<module>\u001b[1;34m\u001b[0m\n\u001b[0;32m      5\u001b[0m     \u001b[0mmonthly_change\u001b[0m\u001b[1;33m=\u001b[0m\u001b[0mcurrentmonthprofit\u001b[0m \u001b[1;33m-\u001b[0m\u001b[0mfirstmonthprofit\u001b[0m\u001b[1;33m\u001b[0m\u001b[1;33m\u001b[0m\u001b[0m\n\u001b[0;32m      6\u001b[0m \u001b[1;33m\u001b[0m\u001b[0m\n\u001b[1;32m----> 7\u001b[1;33m     \u001b[0mtotal_change\u001b[0m\u001b[1;33m=\u001b[0m\u001b[0msum\u001b[0m\u001b[1;33m(\u001b[0m\u001b[0mmonthly_change\u001b[0m\u001b[1;33m)\u001b[0m\u001b[1;33m\u001b[0m\u001b[1;33m\u001b[0m\u001b[0m\n\u001b[0m\u001b[0;32m      8\u001b[0m \u001b[1;33m\u001b[0m\u001b[0m\n\u001b[0;32m      9\u001b[0m     \u001b[0mcurrentmonthprofit\u001b[0m\u001b[1;33m=\u001b[0m\u001b[0mint\u001b[0m\u001b[1;33m(\u001b[0m\u001b[0mrow\u001b[0m\u001b[1;33m[\u001b[0m\u001b[1;36m1\u001b[0m\u001b[1;33m]\u001b[0m\u001b[1;33m)\u001b[0m\u001b[1;33m\u001b[0m\u001b[1;33m\u001b[0m\u001b[0m\n",
      "\u001b[1;31mTypeError\u001b[0m: 'int' object is not iterable"
     ]
    }
   ],
   "source": [
    "\n",
    "if (month_count == 1):\n",
    "    currentmonthprofit=firstmonthprofit\n",
    "            \n",
    "else: \n",
    "    monthly_change=currentmonthprofit -firstmonthprofit\n",
    "\n",
    "    total_change=sum(monthly_change)\n",
    "                \n",
    "    currentmonthprofit=int(row[1])\n",
    "    total_profit += currentmonthprofit\n",
    "            \n",
    "         \n",
    "    print(currentmonthprofit)\n",
    "    print(average_monthly_change)"
   ]
  },
  {
   "cell_type": "code",
   "execution_count": null,
   "id": "7c67a4d3",
   "metadata": {},
   "outputs": [],
   "source": []
  },
  {
   "cell_type": "code",
   "execution_count": null,
   "id": "36254947",
   "metadata": {},
   "outputs": [],
   "source": []
  },
  {
   "cell_type": "code",
   "execution_count": null,
   "id": "2facdf2d",
   "metadata": {},
   "outputs": [],
   "source": [
    "Total_PL=sum(budget_data_df[\"Profit/Losses\"])\n",
    "print(Total_PL)\n"
   ]
  },
  {
   "cell_type": "code",
   "execution_count": null,
   "id": "217e301a",
   "metadata": {},
   "outputs": [],
   "source": [
    "Average_Change=budget_data_df[\"Profit/Losses\"].mean()\n",
    "print(Average_Change)\n",
    "Greatest_increase= budget_data_df[\"Profit/Losses\"].max()\n",
    "print(Greatest_increase)\n",
    "Greatest_decrease=budget_data_df [\"Profit/Losses\"].min()\n",
    "print(Greatest_decrease)"
   ]
  },
  {
   "cell_type": "code",
   "execution_count": null,
   "id": "6c36085c",
   "metadata": {},
   "outputs": [],
   "source": [
    "    def  as_currency (Profit_Losses):\n",
    "        if Profit_Losses >=0:\n",
    "            return '${:,}'\n",
    "        if Profit_Losses <0:\n",
    "            return '-${:,}'"
   ]
  },
  {
   "cell_type": "code",
   "execution_count": 95,
   "id": "f0a5690c",
   "metadata": {},
   "outputs": [
    {
     "ename": "NameError",
     "evalue": "name 'pd' is not defined",
     "output_type": "error",
     "traceback": [
      "\u001b[1;31m---------------------------------------------------------------------------\u001b[0m",
      "\u001b[1;31mNameError\u001b[0m                                 Traceback (most recent call last)",
      "\u001b[1;32m~\\AppData\\Local\\Temp\\ipykernel_13592\\2956688136.py\u001b[0m in \u001b[0;36m<module>\u001b[1;34m\u001b[0m\n\u001b[1;32m----> 1\u001b[1;33m summary_df=pd.DataFrame({\"Total Months\": [ month_count],\n\u001b[0m\u001b[0;32m      2\u001b[0m                         \u001b[1;34m\"Total\"\u001b[0m\u001b[1;33m:\u001b[0m \u001b[1;33m[\u001b[0m\u001b[0mTotal_PL\u001b[0m\u001b[1;33m]\u001b[0m\u001b[1;33m,\u001b[0m\u001b[1;33m\u001b[0m\u001b[1;33m\u001b[0m\u001b[0m\n\u001b[0;32m      3\u001b[0m                          \u001b[1;34m\"Average Change\"\u001b[0m\u001b[1;33m:\u001b[0m \u001b[1;33m[\u001b[0m\u001b[0mAverage_Change\u001b[0m\u001b[1;33m]\u001b[0m\u001b[1;33m,\u001b[0m\u001b[1;33m\u001b[0m\u001b[1;33m\u001b[0m\u001b[0m\n\u001b[0;32m      4\u001b[0m                         \u001b[1;34m\"Gratest Increase in Profit\"\u001b[0m\u001b[1;33m:\u001b[0m\u001b[1;33m[\u001b[0m\u001b[0mGreatest_increase\u001b[0m\u001b[1;33m]\u001b[0m\u001b[1;33m,\u001b[0m\u001b[1;33m\u001b[0m\u001b[1;33m\u001b[0m\u001b[0m\n\u001b[0;32m      5\u001b[0m                         \"Greatest Decrease in Profit\": [Greatest_decrease]})\n",
      "\u001b[1;31mNameError\u001b[0m: name 'pd' is not defined"
     ]
    }
   ],
   "source": [
    "summary_df=pd.DataFrame({\"Total Months\": [ month_count],\n",
    "                        \"Total\": [Total_PL],\n",
    "                         \"Average Change\": [Average_Change],\n",
    "                        \"Gratest Increase in Profit\":[Greatest_increase],\n",
    "                        \"Greatest Decrease in Profit\": [Greatest_decrease]})\n",
    "Summary_df"
   ]
  },
  {
   "cell_type": "code",
   "execution_count": null,
   "id": "ef89517b",
   "metadata": {},
   "outputs": [],
   "source": []
  },
  {
   "cell_type": "code",
   "execution_count": null,
   "id": "28e14818",
   "metadata": {},
   "outputs": [],
   "source": [
    "\n"
   ]
  },
  {
   "cell_type": "code",
   "execution_count": null,
   "id": "b2f09463",
   "metadata": {},
   "outputs": [],
   "source": [
    "\n"
   ]
  },
  {
   "cell_type": "code",
   "execution_count": null,
   "id": "872464d5",
   "metadata": {},
   "outputs": [],
   "source": []
  }
 ],
 "metadata": {
  "kernelspec": {
   "display_name": "Python 3 (ipykernel)",
   "language": "python",
   "name": "python3"
  },
  "language_info": {
   "codemirror_mode": {
    "name": "ipython",
    "version": 3
   },
   "file_extension": ".py",
   "mimetype": "text/x-python",
   "name": "python",
   "nbconvert_exporter": "python",
   "pygments_lexer": "ipython3",
   "version": "3.9.13"
  }
 },
 "nbformat": 4,
 "nbformat_minor": 5
}
